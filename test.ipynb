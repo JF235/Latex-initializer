{
 "cells": [
  {
   "cell_type": "code",
   "execution_count": 2,
   "metadata": {},
   "outputs": [],
   "source": [
    "import sys\n",
    "import os\n",
    "import shutil\n",
    "import pandas as pd\n",
    "import numpy as np\n",
    "import re"
   ]
  },
  {
   "cell_type": "code",
   "execution_count": 4,
   "metadata": {},
   "outputs": [
    {
     "name": "stdout",
     "output_type": "stream",
     "text": [
      "\\usepackage{geometry}\n",
      "\\usepackage{fontspec}\n",
      "\\usepackage{unicode-math}\n",
      "\\usepackage[english]{babel}\n",
      "\\usepackage{graphicx}\n",
      "\\usepackage{bm}\n",
      "\\usepackage{svg}\n",
      "\\usepackage{amsmath}\n",
      "\\usepackage{amsthm}\n",
      "\\usepackage{xcolor}\n",
      "\\usepackage{xurl}\n",
      "\\usepackage[hyperfootnotes = false]{hyperref}\n",
      "\\usepackage{blindtext}\n",
      "\\usepackage{lipsum}\n",
      "\\usepackage{float}\n",
      "\\usepackage{subcaption}\n",
      "\\usepackage{cleveref}\n",
      "\\usepackage{titlesec}\n",
      "\\usepackage{wrapfig}\n",
      "\\usepackage{caption}\n",
      "\\usepackage[symbol*]{footmisc}\n",
      "\\usepackage{selnolig}\n"
     ]
    }
   ],
   "source": [
    "# CÉLULA PARA TESTE DE def criar_packagesdottex():\n",
    "\n",
    "pacotes_df = pd.read_csv(\"packages.csv\", sep = \";\")\n",
    "no_pacotes = len(pacotes_df)\n",
    "for i in range(no_pacotes):\n",
    "    nome, opcoes, descricao = tuple(pacotes_df.loc[i])\n",
    "    if pd.isnull(opcoes):\n",
    "        print(r\"\\usepackage{\" + nome + r\"}\")\n",
    "    else:\n",
    "        print(r\"\\usepackage\" + f\"[{opcoes}]\" + \"{\" + nome + \"}\")\n"
   ]
  },
  {
   "cell_type": "code",
   "execution_count": 20,
   "metadata": {},
   "outputs": [
    {
     "name": "stdout",
     "output_type": "stream",
     "text": [
      "True\n",
      "{'tcolorbox', 'footmisc'}\n",
      "set()\n"
     ]
    }
   ],
   "source": [
    "# CÉLULA QUE SERVE PARA TESTE DA FUNÇÃO def checar_pacotes(conteudo):\n",
    "\n",
    "conteudo = \"\"\n",
    "with open(\"packages.tex\", 'r', encoding=\"UTF8\") as file:\n",
    "    conteudo += file.read()\n",
    "#print(conteudo)\n",
    "\n",
    "# PEGAR TODOS OS PACOTES DO ARQUIVO .TEX\n",
    "lista_pacotes_tex = re.findall(r\"{([\\w-]+)}\", conteudo)\n",
    "# COMPARAR CADA PACOTE DO ARQUIVO .TEX E CHECAR SE ELE ESTÁ NO .TXT\n",
    "packages_df = pd.read_csv(\"packages.csv\", sep = \";\")\n",
    "lista_pacotes_csv = packages_df[\"nome_pacote\"]\n",
    "\n",
    "# Transforma as listas em sets\n",
    "pacotes_tex = set(lista_pacotes_tex)\n",
    "pacotes_csv = set(lista_pacotes_csv)\n",
    "\n",
    "print('unicode-math' in pacotes_csv)\n",
    "\n",
    "# Checa se tem mais pacotes em tex do que em csv\n",
    "# Para isso eu vejo se o conjunto de pacotes exclusivos para tex é vazio\n",
    "exclusivos_tex = pacotes_tex - pacotes_csv\n",
    "if exclusivos_tex != set():\n",
    "    print(exclusivos_tex)\n",
    "    print(pacotes_csv - pacotes_tex)"
   ]
  },
  {
   "cell_type": "code",
   "execution_count": 23,
   "metadata": {},
   "outputs": [],
   "source": [
    "# CÉLULA QUE SERVE PARA TESTE DA FUNÇÃO adicionar_pacote_para_csv(nome_pacote):\n",
    "def adicionar_pacote_para_csv(nome_pacote):\n",
    "    nome, opcoes, comentario = \"\", \"\", \"\"\n",
    "    with open(\"packages.tex\", 'r', encoding=\"UTF8\") as file:\n",
    "        conteudo = file.read()\n",
    "        opcoes = r\"(?:\\[(.*)\\])?\"\n",
    "        usepackage = r\"\\\\usepackage\"\n",
    "        comentario = r\"% (.*)\"\n",
    "        pacote = \"{(\" + nome_pacote + \")}\"\n",
    "        \n",
    "        padrao = comentario + r\"\\n\" + usepackage + opcoes + pacote\n",
    "         \n",
    "        comentario, opcoes, nome  = re.findall(padrao, conteudo)[0]\n",
    "    with open(\"packages.csv\", \"a\", encoding=\"UTF8\") as file:\n",
    "        file.write(f\"\\n{nome};{opcoes};{comentario}\")\n",
    "        \n",
    "adicionar_pacote_para_csv('tcolorbox')\n",
    "adicionar_pacote_para_csv('footmisc')\n"
   ]
  },
  {
   "cell_type": "code",
   "execution_count": null,
   "metadata": {},
   "outputs": [],
   "source": []
  }
 ],
 "metadata": {
  "kernelspec": {
   "display_name": "Python 3",
   "language": "python",
   "name": "python3"
  },
  "language_info": {
   "codemirror_mode": {
    "name": "ipython",
    "version": 3
   },
   "file_extension": ".py",
   "mimetype": "text/x-python",
   "name": "python",
   "nbconvert_exporter": "python",
   "pygments_lexer": "ipython3",
   "version": "3.10.6"
  },
  "orig_nbformat": 4,
  "vscode": {
   "interpreter": {
    "hash": "06b180de4439474a6b92967463023c5560b2c4657f9d52e515b97b85bafdc001"
   }
  }
 },
 "nbformat": 4,
 "nbformat_minor": 2
}
